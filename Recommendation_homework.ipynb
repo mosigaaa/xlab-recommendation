{
  "cells": [
    {
      "cell_type": "markdown",
      "metadata": {
        "id": "view-in-github",
        "colab_type": "text"
      },
      "source": [
        "<a href=\"https://colab.research.google.com/github/mosigaaa/xlab-recommendation/blob/main/Recommendation_homework.ipynb\" target=\"_parent\"><img src=\"https://colab.research.google.com/assets/colab-badge.svg\" alt=\"Open In Colab\"/></a>"
      ]
    },
    {
      "cell_type": "markdown",
      "metadata": {
        "id": "COPz6Y0pMb9D"
      },
      "source": [
        "# Homework\n",
        "[![Open in Colab](https://colab.research.google.com/assets/colab-badge.svg)](https://colab.research.google.com/github/biodatlab/xlab-recommendation/blob/main/homework/homework.ipynb)"
      ]
    },
    {
      "cell_type": "markdown",
      "metadata": {
        "id": "0Jz6NNh1Mb9E"
      },
      "source": [
        "### 1. Implicit Recommendation with X-wines Dataset\n",
        "Use [X-wines](https://github.com/rogerioxavier/X-Wines/tree/main/Dataset/last) dataset for implicit recommendation"
      ]
    },
    {
      "cell_type": "markdown",
      "metadata": {
        "id": "c8jkQcDAMb9E"
      },
      "source": [
        "##### Dataset preparation"
      ]
    },
    {
      "cell_type": "code",
      "execution_count": 1,
      "metadata": {
        "id": "RwwIgErfMb9F",
        "colab": {
          "base_uri": "https://localhost:8080/"
        },
        "outputId": "7b6a3c4f-aa02-4dcd-8453-ba611ce3d586"
      },
      "outputs": [
        {
          "output_type": "stream",
          "name": "stderr",
          "text": [
            "Downloading...\n",
            "From: https://drive.google.com/uc?id=1JuGLA56ibjPtzhupMxUHwA781XHT7Wml\n",
            "To: /content/XWines_Slim_1K_wines_150K_ratings.zip\n",
            "100%|██████████| 2.47M/2.47M [00:00<00:00, 219MB/s]"
          ]
        },
        {
          "output_type": "stream",
          "name": "stdout",
          "text": [
            "Archive:  XWines_Slim_1K_wines_150K_ratings.zip\n",
            "  inflating: XWines_Slim_150K_ratings.csv  \n",
            "  inflating: XWines_Slim_1K_wines.csv  \n"
          ]
        },
        {
          "output_type": "stream",
          "name": "stderr",
          "text": [
            "\n"
          ]
        }
      ],
      "source": [
        "# Download dataset from google drive\n",
        "import gdown\n",
        "output = \"XWines_Slim_1K_wines_150K_ratings.zip\"\n",
        "url = \"https://drive.google.com/file/d/1JuGLA56ibjPtzhupMxUHwA781XHT7Wml/view?usp=drive_link\"\n",
        "gdown.download(url=url, output=output, quiet=False, fuzzy=True)\n",
        "\n",
        "# Extract dataset zip file\n",
        "!unzip XWines_Slim_1K_wines_150K_ratings.zip"
      ]
    },
    {
      "cell_type": "code",
      "execution_count": null,
      "metadata": {
        "id": "O0lOUG-HMb9F"
      },
      "outputs": [],
      "source": [
        "# TODO: Using implicit ALS model to get 10 wine recommendations for a single user.\n",
        "# - Convert the dataset into an implicit one by setting ratings lower than 4.0 (or whatever threshold) to zero and those higher than 4.0 to one.\n",
        "# - Weight the item-user sparse matrix with implicit BM25 weighting before creating an ALS model.\n",
        "# - Display the result of the model with Gradio."
      ]
    },
    {
      "cell_type": "code",
      "source": [
        "!pip install implicit\n",
        "!pip install gradio"
      ],
      "metadata": {
        "id": "LAOtbAkiODdk"
      },
      "execution_count": null,
      "outputs": []
    },
    {
      "cell_type": "code",
      "source": [
        "import pandas as pd\n",
        "import numpy as np"
      ],
      "metadata": {
        "id": "8kbrxROaOKHB"
      },
      "execution_count": 3,
      "outputs": []
    },
    {
      "cell_type": "code",
      "source": [
        "Xwine_rating_1K = pd.read_csv(\"/content/XWines_Slim_1K_wines.csv\")\n",
        "Xwine_rating_150K = pd.read_csv(\"/content/XWines_Slim_150K_ratings.csv\")\n",
        "#print(Xwine_rating_1K.head(10))\n",
        "print(Xwine_rating_150K.head(10))"
      ],
      "metadata": {
        "id": "3MfpSWK2OYmb"
      },
      "execution_count": null,
      "outputs": []
    },
    {
      "cell_type": "code",
      "source": [
        "Xwine_rating_150K.drop(columns=[\"Date\"],inplace=True)\n",
        "\n",
        "for index, rating in Xwine_rating_150K[\"Rating\"].iteritems():\n",
        "    if rating > 4:\n",
        "        Xwine_rating_150K.at[index, \"Rating\"] = 1\n",
        "    else:\n",
        "       Xwine_rating_150K.at[index, \"Rating\"] = 0"
      ],
      "metadata": {
        "colab": {
          "base_uri": "https://localhost:8080/"
        },
        "id": "GbLbnhgVQ2Qn",
        "outputId": "ef367744-944a-4071-8be5-f5f04642cad9"
      },
      "execution_count": 5,
      "outputs": [
        {
          "output_type": "stream",
          "name": "stderr",
          "text": [
            "<ipython-input-5-dffef22c8b4c>:3: FutureWarning: iteritems is deprecated and will be removed in a future version. Use .items instead.\n",
            "  for index, rating in Xwine_rating_150K[\"Rating\"].iteritems():\n"
          ]
        }
      ]
    },
    {
      "cell_type": "code",
      "source": [
        "print(Xwine_rating_150K[\"Rating\"].value_counts())"
      ],
      "metadata": {
        "id": "PTrs0Ml6Kslq"
      },
      "execution_count": null,
      "outputs": []
    },
    {
      "cell_type": "code",
      "source": [
        "from sklearn.decomposition import NMF\n",
        "from scipy.sparse import csr_matrix\n",
        "from implicit.nearest_neighbours import bm25_weight"
      ],
      "metadata": {
        "id": "iYSHWfXZMn1a"
      },
      "execution_count": 7,
      "outputs": []
    },
    {
      "cell_type": "code",
      "source": [
        "Xwine_rating_150K[\"Rating\"] = Xwine_rating_150K[\"Rating\"].astype(float)\n",
        "Xwine_rating_150K[\"UserID\"] = Xwine_rating_150K[\"UserID\"].astype(\"category\")\n",
        "Xwine_rating_150K[\"WineID\"] = Xwine_rating_150K[\"WineID\"].astype(\"category\")"
      ],
      "metadata": {
        "id": "7oC9sY_6NFM6"
      },
      "execution_count": 10,
      "outputs": []
    },
    {
      "cell_type": "code",
      "source": [
        "X_rating = csr_matrix( (\n",
        "    Xwine_rating_150K[\"Rating\"],(Xwine_rating_150K[\"UserID\"].cat.codes,Xwine_rating_150K[\"WineID\"].cat.codes)\n",
        "    )\n",
        ")\n",
        "X_rating = X_rating.tocsr()\n",
        "print(X_rating)"
      ],
      "metadata": {
        "id": "QVTXfqXzOFjU"
      },
      "execution_count": null,
      "outputs": []
    },
    {
      "cell_type": "code",
      "source": [
        "from implicit.nearest_neighbours import bm25_weight\n",
        "\n",
        "X_rating = bm25_weight(X_rating, K1=100, B=0.8)\n",
        "print(X_rating)\n",
        "from implicit.als import AlternatingLeastSquares\n",
        "model = AlternatingLeastSquares(factors=64, regularization=0.05, alpha=2.0)\n",
        "# Implicit expect user-item (user-artist)\n",
        "user_rating = X_rating.T.tocsr()\n",
        "\n",
        "model.fit(user_rating)\n"
      ],
      "metadata": {
        "id": "z3S2_QKyPIRh"
      },
      "execution_count": null,
      "outputs": []
    },
    {
      "cell_type": "code",
      "source": [],
      "metadata": {
        "id": "jEHOKSNWPtB7"
      },
      "execution_count": null,
      "outputs": []
    },
    {
      "cell_type": "code",
      "source": [
        "import gradio as gr\n",
        "\n",
        "\n",
        "def recommend_wine(user_id):\n",
        "    user_id = int(user_id)\n",
        "    if (\n",
        "        Xwine_rating_150K[\"UserID\"] == user_id\n",
        "    ).any():  # check if input user_id exist in dataset or not\n",
        "        selected_user_df = Xwine_rating_150K[Xwine_rating_150K[\"UserID\"] == user_id].sort_values(\n",
        "            by=\"Rating\", ascending=False\n",
        "        )\n",
        "\n",
        "        # Get the user index for the user_id to use in the prediction\n",
        "        user_idx = selected_user_df[\"UserID\"].cat.codes.values[0]\n",
        "        predicted_ratings = np.dot(W[user_idx], H)\n",
        "        sort_rating_indices = np.flip(np.argsort(predicted_ratings))[:20]\n",
        "        selected_predict_ratings = predicted_ratings[sort_rating_indices]\n",
        "\n",
        "        # Get the WineID from the sorted indices\n",
        "        rec_wine_ids = Xwine_rating_150K[\"WineID\"].cat.categories[sort_rating_indices]\n",
        "\n",
        "        rec_df = pd.DataFrame({\n",
        "            \"WineID\": rec_wine_ids,\n",
        "            \"PredictedRating\": selected_predict_ratings,\n",
        "        })\n",
        "\n",
        "        # Merge with the original dataset to get additional wine details\n",
        "        rec_df = rec_df.merge(Xwine_rating_150K.drop_duplicates(subset=['WineID']), how=\"left\", on=\"WineID\")\n",
        "\n",
        "        # Return the top 10 actual ratings by the user and top 10 recommendations\n",
        "        return selected_user_df.head(10), rec_df.head(10)\n",
        "    else:\n",
        "        raise gr.Error(\"User ID not found\")\n",
        "\n",
        "# Gradio interface setup\n",
        "demo = gr.Interface(\n",
        "    fn=recommend_wine,\n",
        "    inputs=gr.Textbox(label=\"Input UserID (e.g., from 1 - 610)\"),\n",
        "    outputs=[gr.DataFrame(label=\"User's Rated Wines\"), gr.DataFrame(label=\"Recommended Wines\")],\n",
        "    examples=[\"21\", \"50\"],\n",
        ").launch(share=True)"
      ],
      "metadata": {
        "colab": {
          "base_uri": "https://localhost:8080/",
          "height": 591
        },
        "id": "EjuTgUZ3RtD6",
        "outputId": "2ba072ce-ce38-455d-fea6-774ceb9f82f8"
      },
      "execution_count": 21,
      "outputs": [
        {
          "output_type": "stream",
          "name": "stdout",
          "text": [
            "Colab notebook detected. To show errors in colab notebook, set debug=True in launch()\n",
            "Running on public URL: https://4311dbb0f6ece6ebfd.gradio.live\n",
            "\n",
            "This share link expires in 72 hours. For free permanent hosting and GPU upgrades, run `gradio deploy` from Terminal to deploy to Spaces (https://huggingface.co/spaces)\n"
          ]
        },
        {
          "output_type": "display_data",
          "data": {
            "text/plain": [
              "<IPython.core.display.HTML object>"
            ],
            "text/html": [
              "<div><iframe src=\"https://4311dbb0f6ece6ebfd.gradio.live\" width=\"100%\" height=\"500\" allow=\"autoplay; camera; microphone; clipboard-read; clipboard-write;\" frameborder=\"0\" allowfullscreen></iframe></div>"
            ]
          },
          "metadata": {}
        }
      ]
    },
    {
      "cell_type": "markdown",
      "metadata": {
        "id": "umCQPE7kMb9F"
      },
      "source": [
        "### 2. Using CLIP to embed product images and recommend similar items\n",
        "Use [fashion-product-images](https://www.kaggle.com/datasets/paramaggarwal/fashion-product-images-dataset) dataset for CLIP image search"
      ]
    },
    {
      "cell_type": "markdown",
      "metadata": {
        "id": "DotjusjBMb9G"
      },
      "source": [
        "* Dataset: https://www.kaggle.com/datasets/paramaggarwal/fashion-product-images-dataset\n",
        "* Interface with Kaggle API: https://www.kaggle.com/discussions/general/74235"
      ]
    },
    {
      "cell_type": "markdown",
      "metadata": {
        "id": "dkHA5YusMb9G"
      },
      "source": [
        "##### Dataset preparation"
      ]
    },
    {
      "cell_type": "code",
      "execution_count": null,
      "metadata": {
        "id": "dx5CBoFiMb9G"
      },
      "outputs": [],
      "source": [
        "!pip install kaggle"
      ]
    },
    {
      "cell_type": "code",
      "execution_count": 31,
      "metadata": {
        "id": "jDBJUKJqMb9G",
        "colab": {
          "base_uri": "https://localhost:8080/",
          "height": 89
        },
        "outputId": "b1d7bb28-98ce-4c0c-ccd0-0a09f4fbc556"
      },
      "outputs": [
        {
          "output_type": "display_data",
          "data": {
            "text/plain": [
              "<IPython.core.display.HTML object>"
            ],
            "text/html": [
              "\n",
              "     <input type=\"file\" id=\"files-341dd073-ebd4-412b-a422-2159e3fbdbf6\" name=\"files[]\" multiple disabled\n",
              "        style=\"border:none\" />\n",
              "     <output id=\"result-341dd073-ebd4-412b-a422-2159e3fbdbf6\">\n",
              "      Upload widget is only available when the cell has been executed in the\n",
              "      current browser session. Please rerun this cell to enable.\n",
              "      </output>\n",
              "      <script>// Copyright 2017 Google LLC\n",
              "//\n",
              "// Licensed under the Apache License, Version 2.0 (the \"License\");\n",
              "// you may not use this file except in compliance with the License.\n",
              "// You may obtain a copy of the License at\n",
              "//\n",
              "//      http://www.apache.org/licenses/LICENSE-2.0\n",
              "//\n",
              "// Unless required by applicable law or agreed to in writing, software\n",
              "// distributed under the License is distributed on an \"AS IS\" BASIS,\n",
              "// WITHOUT WARRANTIES OR CONDITIONS OF ANY KIND, either express or implied.\n",
              "// See the License for the specific language governing permissions and\n",
              "// limitations under the License.\n",
              "\n",
              "/**\n",
              " * @fileoverview Helpers for google.colab Python module.\n",
              " */\n",
              "(function(scope) {\n",
              "function span(text, styleAttributes = {}) {\n",
              "  const element = document.createElement('span');\n",
              "  element.textContent = text;\n",
              "  for (const key of Object.keys(styleAttributes)) {\n",
              "    element.style[key] = styleAttributes[key];\n",
              "  }\n",
              "  return element;\n",
              "}\n",
              "\n",
              "// Max number of bytes which will be uploaded at a time.\n",
              "const MAX_PAYLOAD_SIZE = 100 * 1024;\n",
              "\n",
              "function _uploadFiles(inputId, outputId) {\n",
              "  const steps = uploadFilesStep(inputId, outputId);\n",
              "  const outputElement = document.getElementById(outputId);\n",
              "  // Cache steps on the outputElement to make it available for the next call\n",
              "  // to uploadFilesContinue from Python.\n",
              "  outputElement.steps = steps;\n",
              "\n",
              "  return _uploadFilesContinue(outputId);\n",
              "}\n",
              "\n",
              "// This is roughly an async generator (not supported in the browser yet),\n",
              "// where there are multiple asynchronous steps and the Python side is going\n",
              "// to poll for completion of each step.\n",
              "// This uses a Promise to block the python side on completion of each step,\n",
              "// then passes the result of the previous step as the input to the next step.\n",
              "function _uploadFilesContinue(outputId) {\n",
              "  const outputElement = document.getElementById(outputId);\n",
              "  const steps = outputElement.steps;\n",
              "\n",
              "  const next = steps.next(outputElement.lastPromiseValue);\n",
              "  return Promise.resolve(next.value.promise).then((value) => {\n",
              "    // Cache the last promise value to make it available to the next\n",
              "    // step of the generator.\n",
              "    outputElement.lastPromiseValue = value;\n",
              "    return next.value.response;\n",
              "  });\n",
              "}\n",
              "\n",
              "/**\n",
              " * Generator function which is called between each async step of the upload\n",
              " * process.\n",
              " * @param {string} inputId Element ID of the input file picker element.\n",
              " * @param {string} outputId Element ID of the output display.\n",
              " * @return {!Iterable<!Object>} Iterable of next steps.\n",
              " */\n",
              "function* uploadFilesStep(inputId, outputId) {\n",
              "  const inputElement = document.getElementById(inputId);\n",
              "  inputElement.disabled = false;\n",
              "\n",
              "  const outputElement = document.getElementById(outputId);\n",
              "  outputElement.innerHTML = '';\n",
              "\n",
              "  const pickedPromise = new Promise((resolve) => {\n",
              "    inputElement.addEventListener('change', (e) => {\n",
              "      resolve(e.target.files);\n",
              "    });\n",
              "  });\n",
              "\n",
              "  const cancel = document.createElement('button');\n",
              "  inputElement.parentElement.appendChild(cancel);\n",
              "  cancel.textContent = 'Cancel upload';\n",
              "  const cancelPromise = new Promise((resolve) => {\n",
              "    cancel.onclick = () => {\n",
              "      resolve(null);\n",
              "    };\n",
              "  });\n",
              "\n",
              "  // Wait for the user to pick the files.\n",
              "  const files = yield {\n",
              "    promise: Promise.race([pickedPromise, cancelPromise]),\n",
              "    response: {\n",
              "      action: 'starting',\n",
              "    }\n",
              "  };\n",
              "\n",
              "  cancel.remove();\n",
              "\n",
              "  // Disable the input element since further picks are not allowed.\n",
              "  inputElement.disabled = true;\n",
              "\n",
              "  if (!files) {\n",
              "    return {\n",
              "      response: {\n",
              "        action: 'complete',\n",
              "      }\n",
              "    };\n",
              "  }\n",
              "\n",
              "  for (const file of files) {\n",
              "    const li = document.createElement('li');\n",
              "    li.append(span(file.name, {fontWeight: 'bold'}));\n",
              "    li.append(span(\n",
              "        `(${file.type || 'n/a'}) - ${file.size} bytes, ` +\n",
              "        `last modified: ${\n",
              "            file.lastModifiedDate ? file.lastModifiedDate.toLocaleDateString() :\n",
              "                                    'n/a'} - `));\n",
              "    const percent = span('0% done');\n",
              "    li.appendChild(percent);\n",
              "\n",
              "    outputElement.appendChild(li);\n",
              "\n",
              "    const fileDataPromise = new Promise((resolve) => {\n",
              "      const reader = new FileReader();\n",
              "      reader.onload = (e) => {\n",
              "        resolve(e.target.result);\n",
              "      };\n",
              "      reader.readAsArrayBuffer(file);\n",
              "    });\n",
              "    // Wait for the data to be ready.\n",
              "    let fileData = yield {\n",
              "      promise: fileDataPromise,\n",
              "      response: {\n",
              "        action: 'continue',\n",
              "      }\n",
              "    };\n",
              "\n",
              "    // Use a chunked sending to avoid message size limits. See b/62115660.\n",
              "    let position = 0;\n",
              "    do {\n",
              "      const length = Math.min(fileData.byteLength - position, MAX_PAYLOAD_SIZE);\n",
              "      const chunk = new Uint8Array(fileData, position, length);\n",
              "      position += length;\n",
              "\n",
              "      const base64 = btoa(String.fromCharCode.apply(null, chunk));\n",
              "      yield {\n",
              "        response: {\n",
              "          action: 'append',\n",
              "          file: file.name,\n",
              "          data: base64,\n",
              "        },\n",
              "      };\n",
              "\n",
              "      let percentDone = fileData.byteLength === 0 ?\n",
              "          100 :\n",
              "          Math.round((position / fileData.byteLength) * 100);\n",
              "      percent.textContent = `${percentDone}% done`;\n",
              "\n",
              "    } while (position < fileData.byteLength);\n",
              "  }\n",
              "\n",
              "  // All done.\n",
              "  yield {\n",
              "    response: {\n",
              "      action: 'complete',\n",
              "    }\n",
              "  };\n",
              "}\n",
              "\n",
              "scope.google = scope.google || {};\n",
              "scope.google.colab = scope.google.colab || {};\n",
              "scope.google.colab._files = {\n",
              "  _uploadFiles,\n",
              "  _uploadFilesContinue,\n",
              "};\n",
              "})(self);\n",
              "</script> "
            ]
          },
          "metadata": {}
        },
        {
          "output_type": "stream",
          "name": "stdout",
          "text": [
            "Saving kaggle.json to kaggle.json\n"
          ]
        },
        {
          "output_type": "execute_result",
          "data": {
            "text/plain": [
              "{'kaggle.json': b'{\"username\":\"makkawanchaimongkol\",\"key\":\"c6687734fccb0256c9f2f480547ab078\"}'}"
            ]
          },
          "metadata": {},
          "execution_count": 31
        }
      ],
      "source": [
        "# follow the \"interface with Kaggle API\" link, upload kaggle.json\n",
        "\n",
        "from google.colab import files\n",
        "files.upload()"
      ]
    },
    {
      "cell_type": "code",
      "execution_count": 32,
      "metadata": {
        "id": "EQnJFu_hMb9G",
        "colab": {
          "base_uri": "https://localhost:8080/"
        },
        "outputId": "a23e3377-2781-4faa-e091-5a538a0d1827"
      },
      "outputs": [
        {
          "output_type": "stream",
          "name": "stdout",
          "text": [
            "mkdir: cannot create directory ‘/root/.kaggle’: File exists\n"
          ]
        }
      ],
      "source": [
        "!mkdir ~/.kaggle\n",
        "!cp kaggle.json ~/.kaggle/\n",
        "!chmod 600 ~/.kaggle/kaggle.json"
      ]
    },
    {
      "cell_type": "code",
      "execution_count": null,
      "metadata": {
        "id": "oS8GOOXuMb9G"
      },
      "outputs": [],
      "source": [
        "# test access kaggle dataset\n",
        "!kaggle datasets list"
      ]
    },
    {
      "cell_type": "code",
      "execution_count": 34,
      "metadata": {
        "id": "clTsbIljMb9G",
        "colab": {
          "base_uri": "https://localhost:8080/"
        },
        "outputId": "9e60fc16-430e-4174-cc20-b377edc36ba2"
      },
      "outputs": [
        {
          "output_type": "stream",
          "name": "stdout",
          "text": [
            "Downloading fashion-product-images-small.zip to /content\n",
            " 99% 562M/565M [00:19<00:00, 33.2MB/s]\n",
            "100% 565M/565M [00:19<00:00, 30.2MB/s]\n"
          ]
        }
      ],
      "source": [
        "# download dataset\n",
        "\n",
        "!kaggle datasets download -d paramaggarwal/fashion-product-images-small"
      ]
    },
    {
      "cell_type": "code",
      "execution_count": null,
      "metadata": {
        "id": "LtbOHhe1Mb9G"
      },
      "outputs": [],
      "source": [
        "# extract dataset zip file\n",
        "\n",
        "!unzip fashion-product-images-small.zipฤ"
      ]
    },
    {
      "cell_type": "code",
      "source": [
        "! pip install torch ftfy regex tqdm numpy\n",
        "! pip install openai-clip\n",
        "! pip install gradio\n",
        "! pip install gdown"
      ],
      "metadata": {
        "id": "V4vF2GCN54wf"
      },
      "execution_count": null,
      "outputs": []
    },
    {
      "cell_type": "code",
      "source": [
        "import os\n",
        "import os.path as op\n",
        "from PIL import Image\n",
        "from zipfile import ZipFile\n",
        "\n",
        "import numpy as np\n",
        "from tqdm import tqdm\n",
        "import torch\n",
        "\n",
        "import clip\n",
        "# check available runtime\n",
        "\n",
        "device = \"cuda\" if torch.cuda.is_available() else \"cpu\"\n",
        "if device == \"cuda\":\n",
        "  ! pip install faiss-gpu\n",
        "else:\n",
        "  ! pip install faiss-cpu\n",
        "\n",
        "print(\"Now running with \" + device)"
      ],
      "metadata": {
        "colab": {
          "base_uri": "https://localhost:8080/"
        },
        "id": "IUpPBL0V6V0B",
        "outputId": "2e0ff0ef-e4c6-4b40-900f-f52d1abafcc0"
      },
      "execution_count": 38,
      "outputs": [
        {
          "output_type": "stream",
          "name": "stdout",
          "text": [
            "Collecting faiss-gpu\n",
            "  Downloading faiss_gpu-1.7.2-cp310-cp310-manylinux_2_17_x86_64.manylinux2014_x86_64.whl (85.5 MB)\n",
            "\u001b[2K     \u001b[90m━━━━━━━━━━━━━━━━━━━━━━━━━━━━━━━━━━━━━━━━\u001b[0m \u001b[32m85.5/85.5 MB\u001b[0m \u001b[31m9.3 MB/s\u001b[0m eta \u001b[36m0:00:00\u001b[0m\n",
            "\u001b[?25hInstalling collected packages: faiss-gpu\n",
            "Successfully installed faiss-gpu-1.7.2\n",
            "Now running with cuda\n"
          ]
        }
      ]
    },
    {
      "cell_type": "code",
      "source": [
        "clip.available_models()"
      ],
      "metadata": {
        "colab": {
          "base_uri": "https://localhost:8080/"
        },
        "id": "P2O0BiQo6n5z",
        "outputId": "b3a73629-dd51-4f94-a946-d1d28d00b3f8"
      },
      "execution_count": 39,
      "outputs": [
        {
          "output_type": "execute_result",
          "data": {
            "text/plain": [
              "['RN50',\n",
              " 'RN101',\n",
              " 'RN50x4',\n",
              " 'RN50x16',\n",
              " 'RN50x64',\n",
              " 'ViT-B/32',\n",
              " 'ViT-B/16',\n",
              " 'ViT-L/14',\n",
              " 'ViT-L/14@336px']"
            ]
          },
          "metadata": {},
          "execution_count": 39
        }
      ]
    },
    {
      "cell_type": "code",
      "source": [
        "model, preprocess = clip.load(\"ViT-B/32\", device=device)"
      ],
      "metadata": {
        "colab": {
          "base_uri": "https://localhost:8080/"
        },
        "id": "AdpcuuGo6pme",
        "outputId": "f4e0f930-e1c1-448b-cf1c-eb0a7c7d2cce"
      },
      "execution_count": 41,
      "outputs": [
        {
          "output_type": "stream",
          "name": "stderr",
          "text": [
            "100%|███████████████████████████████████████| 338M/338M [00:12<00:00, 28.8MiB/s]\n"
          ]
        }
      ]
    },
    {
      "cell_type": "code",
      "source": [
        "# load dataset\n",
        "\n",
        "dataset_path = op.join(os.getcwd(), \"/content/myntradataset/images/\")\n",
        "print(dataset_path)"
      ],
      "metadata": {
        "colab": {
          "base_uri": "https://localhost:8080/"
        },
        "id": "TqAkZCfS7hQO",
        "outputId": "aac341c4-5bb8-4066-ed6e-e3af9dcdb325"
      },
      "execution_count": 59,
      "outputs": [
        {
          "output_type": "stream",
          "name": "stdout",
          "text": [
            "/content/myntradataset/images/\n"
          ]
        }
      ]
    },
    {
      "cell_type": "code",
      "source": [
        "# create list of all filename in dataset folder\n",
        "\n",
        "all_folder_path = os.listdir(dataset_path)\n",
        "all_folder_path.sort()\n",
        "print(len(all_folder_path))"
      ],
      "metadata": {
        "colab": {
          "base_uri": "https://localhost:8080/"
        },
        "id": "f7TfCR5x7pDT",
        "outputId": "ee4e82f0-c950-4315-87bc-4b7e7a0a79e3"
      },
      "execution_count": 60,
      "outputs": [
        {
          "output_type": "stream",
          "name": "stdout",
          "text": [
            "44441\n"
          ]
        }
      ]
    },
    {
      "cell_type": "code",
      "source": [
        "# allocate embeddings array from num_file\n",
        "embeddings_storage = np.zeros((len(all_folder_path),512),dtype=np.float32)\n",
        "\n",
        "# encoder dataset & store images name\n",
        "file_counter = 0\n",
        "images_path = [f for f in os.listdir(dataset_path) if op.isfile(op.join(dataset_path, f))]\n",
        "images_path.sort()\n",
        "for path in tqdm(images_path):\n",
        "    with torch.no_grad():\n",
        "        image = (\n",
        "            preprocess(Image.open(op.join(dataset_path, path))).unsqueeze(0).to(device)\n",
        "        )\n",
        "        embeddings_storage[file_counter] = np.array(\n",
        "            model.encode_image(image).numpy(force=True)[0].astype(\"float32\")\n",
        "        )\n",
        "        file_counter += 1\n",
        "\n"
      ],
      "metadata": {
        "colab": {
          "base_uri": "https://localhost:8080/"
        },
        "id": "SFWt9W-F8KDv",
        "outputId": "d0fbddb7-9b30-4c1d-cc30-f1eb0f2cc9c5"
      },
      "execution_count": 87,
      "outputs": [
        {
          "output_type": "stream",
          "name": "stderr",
          "text": [
            "100%|██████████| 44441/44441 [12:00<00:00, 61.67it/s]\n"
          ]
        }
      ]
    },
    {
      "cell_type": "code",
      "source": [
        "# create embeddings vector using FAISS\n",
        "\n",
        "import faiss\n",
        "\n",
        "index = faiss.IndexFlatL2(\n",
        "    512\n",
        ")  # dimension of 1 embedding decoded from CLIP model is 512\n",
        "index.add(embeddings_storage)\n",
        "print(index.ntotal)"
      ],
      "metadata": {
        "colab": {
          "base_uri": "https://localhost:8080/"
        },
        "id": "mJU8KVR6Frew",
        "outputId": "1edafb28-fcc5-41c5-db83-38f428acf0b5"
      },
      "execution_count": 88,
      "outputs": [
        {
          "output_type": "stream",
          "name": "stdout",
          "text": [
            "44441\n"
          ]
        }
      ]
    },
    {
      "cell_type": "code",
      "source": [
        "import gradio as gr\n",
        "from PIL import Image\n",
        "import numpy as np\n",
        "import os.path as op\n",
        "import torch\n",
        "\n",
        "\n",
        "\n",
        "def recommend_similar_image(image_path):\n",
        "    print(f\"get image path {image_path}\")\n",
        "\n",
        "    test_image = preprocess(Image.open(image_path)).unsqueeze(0).to(device)\n",
        "\n",
        "    with torch.no_grad():\n",
        "        test_embeddings = model.encode_image(test_image).numpy(force = True)[0].astype(\"float32\")\n",
        "        test_embeddings = np.array([test_embeddings])\n",
        "\n",
        "    k = 4  # number of recommendations\n",
        "    square_distance, image_index = index.search(test_embeddings, k)\n",
        "    print(image_index)\n",
        "    print(square_distance)\n",
        "\n",
        "    print(\"Opening Images...\")\n",
        "    recommended_images = [\n",
        "        (\n",
        "            Image.open(op.join(dataset_path, all_folder_path[image_index[0][i]])),\n",
        "            f\"Recommended Rank {i+1}\",\n",
        "        )\n",
        "        for i in range(k)\n",
        "    ]\n",
        "    return recommended_images\n",
        "\n",
        "\n",
        "demo = gr.Interface(\n",
        "    fn=recommend_similar_image,\n",
        "    inputs=gr.Image(type=\"filepath\"),\n",
        "    outputs=gr.Gallery(),\n",
        ").launch(share=True, debug=True)\n"
      ],
      "metadata": {
        "colab": {
          "base_uri": "https://localhost:8080/",
          "height": 695
        },
        "id": "UvUWCEhBF4oL",
        "outputId": "866fae34-1aa7-4b1a-e527-fb4ed071a442"
      },
      "execution_count": 91,
      "outputs": [
        {
          "output_type": "stream",
          "name": "stdout",
          "text": [
            "Colab notebook detected. This cell will run indefinitely so that you can see errors and logs. To turn off, set debug=False in launch().\n",
            "Running on public URL: https://4e8e1a3b5bf3ec3be4.gradio.live\n",
            "\n",
            "This share link expires in 72 hours. For free permanent hosting and GPU upgrades, run `gradio deploy` from Terminal to deploy to Spaces (https://huggingface.co/spaces)\n"
          ]
        },
        {
          "output_type": "display_data",
          "data": {
            "text/plain": [
              "<IPython.core.display.HTML object>"
            ],
            "text/html": [
              "<div><iframe src=\"https://4e8e1a3b5bf3ec3be4.gradio.live\" width=\"100%\" height=\"500\" allow=\"autoplay; camera; microphone; clipboard-read; clipboard-write;\" frameborder=\"0\" allowfullscreen></iframe></div>"
            ]
          },
          "metadata": {}
        },
        {
          "output_type": "stream",
          "name": "stdout",
          "text": [
            "get image path /tmp/gradio/941c0fffed299a38aa131564a19d0d739f3ece66/image.png\n",
            "[[    6 41468 15906 42396]]\n",
            "[[ 0.       10.718597 11.229553 14.982812]]\n",
            "Opening Images...\n",
            "Keyboard interruption in main thread... closing server.\n",
            "Killing tunnel 127.0.0.1:7861 <> https://4e8e1a3b5bf3ec3be4.gradio.live\n"
          ]
        }
      ]
    },
    {
      "cell_type": "code",
      "source": [
        "def recommend_similar_image(text):\n",
        "\n",
        "    text = clip.tokenize([text]).to(device)\n",
        "    with torch.no_grad():\n",
        "        test_embeddings = model.encode_text(text).numpy(force=True)[0].astype(\"float32\")\n",
        "        test_embeddings = np.array([test_embeddings])\n",
        "\n",
        "    k = 10  # number of recommendations\n",
        "    square_distance, image_index = index.search(test_embeddings, k)\n",
        "    print(image_index)\n",
        "    print(square_distance)\n",
        "\n",
        "    print(\"Opening Images...\")\n",
        "    recommended_images = [\n",
        "        (\n",
        "            Image.open(op.join(dataset_path, all_folder_path[image_index[0][i]])),\n",
        "            f\"Recommended Rank {i+1}\",\n",
        "        )\n",
        "        for i in range(k)\n",
        "    ]\n",
        "    return recommended_images\n",
        "\n",
        "\n",
        "example_path = []\n",
        "demo = gr.Interface(\n",
        "    fn=recommend_similar_image,\n",
        "    inputs=gr.Textbox(),\n",
        "    outputs=gr.Gallery(),\n",
        ").launch(share=True, debug=True)"
      ],
      "metadata": {
        "colab": {
          "base_uri": "https://localhost:8080/",
          "height": 1000
        },
        "id": "rAUFW5JbNgr-",
        "outputId": "57c1e12b-d082-449e-f1c6-5c3696c30a2a"
      },
      "execution_count": null,
      "outputs": [
        {
          "metadata": {
            "tags": null
          },
          "name": "stdout",
          "output_type": "stream",
          "text": [
            "Colab notebook detected. This cell will run indefinitely so that you can see errors and logs. To turn off, set debug=False in launch().\n",
            "Running on public URL: https://0d58e9a8da8d422b44.gradio.live\n",
            "\n",
            "This share link expires in 72 hours. For free permanent hosting and GPU upgrades, run `gradio deploy` from Terminal to deploy to Spaces (https://huggingface.co/spaces)\n"
          ]
        },
        {
          "data": {
            "text/html": [
              "<div><iframe src=\"https://0d58e9a8da8d422b44.gradio.live\" width=\"100%\" height=\"500\" allow=\"autoplay; camera; microphone; clipboard-read; clipboard-write;\" frameborder=\"0\" allowfullscreen></iframe></div>"
            ],
            "text/plain": [
              "<IPython.core.display.HTML object>"
            ]
          },
          "metadata": {},
          "output_type": "display_data"
        },
        {
          "metadata": {
            "tags": null
          },
          "name": "stdout",
          "output_type": "stream",
          "text": [
            "[[11286 33505 25976 12611 42482 13143  2598 20572 31812 17311]]\n",
            "[[119.534355 120.381744 120.83953  122.36725  123.34304  123.40774\n",
            "  123.564995 123.65398  123.70002  123.93276 ]]\n",
            "Opening Images...\n",
            "[[  661 28304 41571 38655 28299 16776 42585 42442 27336 28590]]\n",
            "[[176.1723  179.19489 179.34119 179.75227 180.8226  181.25922 181.40344\n",
            "  181.49213 181.76077 182.04488]]\n",
            "Opening Images...\n",
            "[[34227 28590 32743 42585  3796  4570 11286 28593 28895 11163]]\n",
            "[[166.98631 167.86702 167.96751 167.99074 168.2092  168.29666 168.35619\n",
            "  168.37315 168.41467 168.43793]]\n",
            "Opening Images...\n",
            "[[28081 43800 41571 28304 28299 37329 12611 28047 42442 11958]]\n",
            "[[151.98413 152.98402 153.1293  154.42413 154.8538  154.895   155.10371\n",
            "  155.32512 155.42017 155.5368 ]]\n",
            "Opening Images...\n",
            "[[20948 37351  9431 26266  4401  3125 30951 16603 38866  2516]]\n",
            "[[127.45049 128.10587 128.65756 128.78375 129.0273  129.19585 129.55028\n",
            "  129.66087 129.70586 129.72473]]\n",
            "Opening Images...\n",
            "[[28360 37329 28304 41571  3745 38866 41568 28299 22222  9431]]\n",
            "[[181.58086 182.17421 182.2138  182.54065 183.07964 184.16405 184.3355\n",
            "  184.41754 184.60477 184.65927]]\n",
            "Opening Images...\n",
            "[[28304 42553 27342 28299 27336  9431 35947 36277 27430 12005]]\n",
            "[[111.751495 113.92323  114.2082   114.55241  114.563675 114.63436\n",
            "  115.585724 116.034195 116.07311  116.1381  ]]\n",
            "Opening Images...\n"
          ]
        }
      ]
    }
  ],
  "metadata": {
    "kernelspec": {
      "display_name": "Python 3",
      "name": "python3"
    },
    "language_info": {
      "codemirror_mode": {
        "name": "ipython",
        "version": 3
      },
      "file_extension": ".py",
      "mimetype": "text/x-python",
      "name": "python",
      "nbconvert_exporter": "python",
      "pygments_lexer": "ipython3",
      "version": "3.9.6"
    },
    "orig_nbformat": 4,
    "colab": {
      "provenance": [],
      "gpuType": "V100",
      "include_colab_link": true
    },
    "accelerator": "GPU"
  },
  "nbformat": 4,
  "nbformat_minor": 0
}